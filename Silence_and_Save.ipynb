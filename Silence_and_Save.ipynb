{
 "cells": [
  {
   "cell_type": "code",
   "execution_count": 307,
   "metadata": {},
   "outputs": [],
   "source": [
    "import torch\n",
    "import logging\n",
    "import torch.nn as nn\n",
    "import torch.optim as optim\n",
    "from torch.utils.data import DataLoader, TensorDataset\n",
    "import numpy as np\n",
    "import os\n",
    "import scipy.io as sio\n",
    "import scipy.cluster.hierarchy as sch\n",
    "import matplotlib.pyplot as plt\n",
    "import PainRNN as PainRNN\n",
    "from sklearn.metrics import silhouette_score\n",
    "from sklearn.cluster import AgglomerativeClustering\n",
    "\n",
    "\n",
    "folder_is = 'results_hdsz16_nepch5000'\n",
    "param_is  = 'condition_prob_act-tanh_label-Actions'\n",
    "model_is  = 'pain_rnn_tau_0.0010.pth'\n",
    "mat_is    = 'InOutputs_condavg_prob.mat'\n",
    "savedir   = os.path.join(os.getcwd(), folder_is, param_is, model_is[:-4] + '_silenced')\n",
    "if not os.path.exists(savedir):\n",
    "    os.makedirs(savedir)\n",
    "\n",
    "load_mdl  = torch.load(os.path.join(os.getcwd(), folder_is, param_is, model_is))\n",
    "load_mat  = sio.loadmat(os.path.join(os.getcwd(), mat_is))\n",
    "\n",
    "inputs    = load_mat['Inputs']\n",
    "inputs    = torch.from_numpy(np.expand_dims(inputs, axis = 2)).to(torch.float32)"
   ]
  },
  {
   "cell_type": "code",
   "execution_count": 308,
   "metadata": {},
   "outputs": [],
   "source": [
    "n_conds = 9\n",
    "n_times = inputs.size(1)\n",
    "n_feats = load_mdl.hidden_size\n",
    "\n",
    "\n",
    "outputs_silenced = []\n",
    "for feat_i in range(n_feats):\n",
    "    with torch.no_grad():\n",
    "        outputs_original, hidden_units = load_mdl(inputs)\n",
    "        \n",
    "    hidden_units[:, :, feat_i] = 0  # Silence the unit\n",
    "    output_silenced = []\n",
    "    for time_i in range(n_times):\n",
    "        output_silenced.append(load_mdl.h2o(hidden_units[:, time_i, :]))\n",
    "        \n",
    "    outputs_silenced.append(torch.stack(output_silenced, dim=1))\n",
    "    \n",
    "    with torch.no_grad():\n",
    "        _, hidden_units = load_mdl(inputs)\n",
    "\n",
    "outputs_silenced = torch.stack(outputs_silenced, dim=3)\n",
    "sio.savemat(os.path.join(savedir, 'silenced_outputs_each_unit.mat'), \n",
    "    {'outputs_silenced': outputs_silenced.detach().numpy(), \n",
    "        'outputs_original': outputs_original.detach().numpy(),\n",
    "        'hidden_units': hidden_units.detach().numpy()})"
   ]
  },
  {
   "cell_type": "code",
   "execution_count": 286,
   "metadata": {},
   "outputs": [
    {
     "name": "stderr",
     "output_type": "stream",
     "text": [
      "/var/folders/gp/xwr4jtsd6114drf2x6phz7wc0000gn/T/ipykernel_34994/1990127673.py:13: ClusterWarning: The symmetric non-negative hollow observation matrix looks suspiciously like an uncondensed distance matrix\n",
      "  linkage_matrix = sch.linkage(distance_mtrx, method='ward')\n"
     ]
    },
    {
     "data": {
      "image/png": "[encoded data removed]",
      "text/plain": [
       "<Figure size 1000x600 with 1 Axes>"
      ]
     },
     "metadata": {},
     "output_type": "display_data"
    }
   ],
   "source": [
    "hiddens = hidden_units.detach().numpy()\n",
    "n_conds, n_times, n_units = hiddens.shape\n",
    "\n",
    "conds_hidden = []\n",
    "for cond_i in range(n_conds):\n",
    "    cond_hidden = hiddens[cond_i, :, :]\n",
    "    conds_hidden.append(np.corrcoef(cond_hidden.T))\n",
    "\n",
    "conds_hidden      = np.stack(conds_hidden, axis = 0)\n",
    "conds_hidden_corr = conds_hidden.mean(axis = 0)\n",
    "distance_mtrx     = 1 - conds_hidden_corr\n",
    "\n",
    "linkage_matrix = sch.linkage(distance_mtrx, method='ward')\n",
    "\n",
    "plt.figure(figsize=(10, 6))\n",
    "sch.dendrogram(linkage_matrix, labels=[f'{i+1}' for i in range(linkage_matrix.shape[0] +1)])\n",
    "plt.title('Hierarchical Clustering Dendrogram (Correlation-Based)')\n",
    "plt.xlabel('Samples')\n",
    "plt.ylabel('Distance')\n",
    "plt.show()"
   ]
  },
  {
   "cell_type": "code",
   "execution_count": 288,
   "metadata": {},
   "outputs": [
    {
     "name": "stdout",
     "output_type": "stream",
     "text": [
      "Clusters: 2 | Score: 0.5451\n",
      "Clusters: 3 | Score: 0.4673\n",
      "Clusters: 4 | Score: 0.4709\n",
      "Clusters: 5 | Score: 0.4795\n",
      "Clusters: 6 | Score: 0.5230\n",
      "Clusters: 7 | Score: 0.5575\n",
      "Clusters: 8 | Score: 0.5162\n",
      "Clusters: 9 | Score: 0.4732\n",
      "Clusters: 10 | Score: 0.4922\n",
      "Optimal clusters: 7\n"
     ]
    }
   ],
   "source": [
    "silhouette_scores  = []\n",
    "max_clusters = 10\n",
    "for n_clusters in range(2, max_clusters + 1):\n",
    "    labels = sch.fcluster(linkage_matrix, t=n_clusters, criterion='maxclust')\n",
    "    score = silhouette_score(distance_mtrx, labels, metric='precomputed')\n",
    "    silhouette_scores.append(score)\n",
    "    print(f\"Clusters: {n_clusters} | Score: {score:.4f}\")\n",
    "\n",
    "optimal_clusters = np.argmax(silhouette_scores) + 2  # Offset by 2 (starts at 2 clusters)\n",
    "print(f\"Optimal clusters: {optimal_clusters}\")\n",
    "final_labels = sch.fcluster(linkage_matrix, t=optimal_clusters, criterion='maxclust')"
   ]
  },
  {
   "cell_type": "code",
   "execution_count": 306,
   "metadata": {},
   "outputs": [],
   "source": [
    "n_conds = 9\n",
    "n_times = inputs.size(1)\n",
    "_, idx = np.unique(final_labels, return_index=True)\n",
    "sorted_indices = np.sort(idx)\n",
    "univals = final_labels[sorted_indices]\n",
    "n_feats = len(univals)\n",
    "\n",
    "outputs_silenced = []\n",
    "for feat_i in range(n_feats):\n",
    "    with torch.no_grad():\n",
    "        outputs_original, hidden_units = load_mdl(inputs)\n",
    "    omitidx = (final_labels  ==  univals[feat_i])\n",
    "        \n",
    "    hidden_units[:, :, feat_i] = 0  # Silence the unit\n",
    "    output_silenced = []\n",
    "    for time_i in range(n_times):\n",
    "        output_silenced.append(load_mdl.h2o(hidden_units[:, time_i, :]))\n",
    "        \n",
    "    outputs_silenced.append(torch.stack(output_silenced, dim=1))\n",
    "    \n",
    "    with torch.no_grad():\n",
    "        _, hidden_units = load_mdl(inputs)\n",
    "\n",
    "outputs_silenced = torch.stack(outputs_silenced, dim=3)\n",
    "sio.savemat(os.path.join(savedir, 'silenced_outputs_each_cluster.mat'), \n",
    "    {'outputs_silenced': outputs_silenced.detach().numpy(), \n",
    "        'outputs_original': outputs_original.detach().numpy(),\n",
    "        'hidden_units': hidden_units.detach().numpy()})"
   ]
  }
 ],
 "metadata": {
  "kernelspec": {
   "display_name": "env_pytorch",
   "language": "python",
   "name": "python3"
  },
  "language_info": {
   "codemirror_mode": {
    "name": "ipython",
    "version": 3
   },
   "file_extension": ".py",
   "mimetype": "text/x-python",
   "name": "python",
   "nbconvert_exporter": "python",
   "pygments_lexer": "ipython3",
   "version": "3.12.4"
  }
 },
 "nbformat": 4,
 "nbformat_minor": 2
}
